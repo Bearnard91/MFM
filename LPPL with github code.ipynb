{
 "cells": [
  {
   "cell_type": "code",
   "execution_count": 1,
   "metadata": {},
   "outputs": [],
   "source": [
    "import datetime as dt\n",
    "import itertools\n",
    "import pandas_datareader as pdr\n",
    "from matplotlib import pyplot as plt\n",
    "import numpy as np\n",
    "import pandas as pd\n",
    "import random\n",
    "from scipy.optimize import minimize\n",
    "from scipy import linalg\n",
    "import seaborn as sns\n",
    "import lppls"
   ]
  },
  {
   "cell_type": "code",
   "execution_count": 2,
   "metadata": {},
   "outputs": [
    {
     "name": "stdout",
     "output_type": "stream",
     "text": [
      "                    High           Low          Open         Close  \\\n",
      "Date                                                                 \n",
      "2021-01-22  33811.851562  28953.373047  30817.625000  33005.761719   \n",
      "2021-01-23  33360.976562  31493.160156  32985.757812  32067.642578   \n",
      "2021-01-24  32944.007812  31106.685547  32064.376953  32289.378906   \n",
      "2021-01-25  34802.742188  32087.787109  32285.798828  32366.392578   \n",
      "2021-01-26  32794.550781  31030.265625  32358.613281  32569.849609   \n",
      "\n",
      "                  Volume     Adj Close  \n",
      "Date                                    \n",
      "2021-01-22  7.720727e+10  33005.761719  \n",
      "2021-01-23  4.835474e+10  32067.642578  \n",
      "2021-01-24  4.864383e+10  32289.378906  \n",
      "2021-01-25  5.989705e+10  32366.392578  \n",
      "2021-01-26  6.025542e+10  32569.849609  \n",
      "753\n"
     ]
    }
   ],
   "source": [
    "ticker = 'BTC-USD'\n",
    "start = dt.datetime(2019, 1, 1)\n",
    "end = dt.datetime(2021, 1, 25)\n",
    "\n",
    "data = pdr.get_data_yahoo(ticker, start=start, end=end)\n",
    "print(data.tail())\n",
    "\n",
    "tLen = len(data)\n",
    "time = np.linspace(0, tLen-1, tLen)\n",
    "close = [data[\"Close\"][i] for i in range(len(data[\"Close\"]))]\n",
    "DataSeries = np.array([time, close])\n",
    "\n",
    "print(tLen)\n"
   ]
  },
  {
   "cell_type": "code",
   "execution_count": 3,
   "metadata": {},
   "outputs": [],
   "source": [
    "# matrix helpers\n",
    "def _yi():\n",
    "    return [np.log(p) for p in DataSeries[1]]\n",
    "\n",
    "def _fi(tc, m):\n",
    "    return [np.power((tc - t), m) for t in DataSeries[0]]\n",
    "\n",
    "def _gi(tc, m, w):\n",
    "    return [np.power((tc - t), m) * np.cos(w * np.log(tc - t)) for t in DataSeries[0]]\n",
    "\n",
    "def _hi(tc, m, w):\n",
    "    return [np.power((tc - t), m) * np.sin(w * np.log(tc - t)) for t in DataSeries[0]]\n",
    "\n",
    "def _fi_pow_2(tc, m):\n",
    "    return np.power(_fi(tc, m), 2)\n",
    "\n",
    "def _gi_pow_2(tc, m, w):\n",
    "    return np.power(_gi(tc, m, w), 2)\n",
    "\n",
    "def _hi_pow_2(tc, m, w):\n",
    "    return np.power(_hi(tc, m, w), 2)\n",
    "\n",
    "def _figi(tc, m, w):\n",
    "    return np.multiply(_fi(tc, m), _gi(tc, m, w))\n",
    "\n",
    "def _fihi(tc, m, w):\n",
    "    return np.multiply(_fi(tc, m), _hi(tc, m, w))\n",
    "\n",
    "def _gihi(tc, m, w):\n",
    "    return np.multiply(_gi(tc, m, w), _hi(tc, m, w))\n",
    "\n",
    "def _yifi(tc, m):\n",
    "    return np.multiply(_yi(), _fi(tc, m))\n",
    "\n",
    "def _yigi(tc, m, w):\n",
    "    return np.multiply(_yi(), _gi(tc, m, w))\n",
    "\n",
    "def _yihi(tc, m, w):\n",
    "    return np.multiply(_yi(), _hi(tc, m, w))"
   ]
  },
  {
   "cell_type": "code",
   "execution_count": 5,
   "metadata": {},
   "outputs": [],
   "source": [
    "# revised version of the LPPL without φ\n",
    "def lppl(t, tc, m, w, a, b, c1, c2):\n",
    "    return a + np.power(tc - t, m) * (b + ((c1 * np.cos(w * np.log(tc - t))) + (c2 * np.sin(w * np.log(tc - t)))))\n",
    "\n",
    "# finds the least square difference\n",
    "def func_restricted(x):\n",
    "    tc = x[0]\n",
    "    m  = x[1]\n",
    "    w  = x[2]\n",
    "    \n",
    "    lin_vals = matrix_equation(tc, m, w)\n",
    "    \n",
    "    a  = lin_vals[0] \n",
    "    b  = lin_vals[1]\n",
    "    c1 = lin_vals[2] \n",
    "    c2 = lin_vals[3]\n",
    "    \n",
    "    delta = [lppl(t, tc, m, w, a, b, c1, c2) for t in DataSeries[0]]\n",
    "    delta = np.subtract(delta, DataSeries[1])\n",
    "    delta = np.power(delta, 2)\n",
    "    return np.sum(delta)\n",
    "\n",
    "# solve the matrix equation\n",
    "def matrix_equation(tc, m, w):\n",
    "    N  = tLen\n",
    "    fi = np.sum(_fi(tc, m))\n",
    "    gi = np.sum(_gi(tc, m, w))\n",
    "    hi = np.sum(_hi(tc, m, w))\n",
    "    fi_pow_2 = np.sum(_fi_pow_2(tc, m))\n",
    "    gi_pow_2 = np.sum(_gi_pow_2(tc, m, w))\n",
    "    hi_pow_2= np.sum(_hi_pow_2(tc, m, w))\n",
    "    figi = np.sum(_figi(tc, m, w))\n",
    "    fihi = np.sum(_fihi(tc, m, w))\n",
    "    gihi = np.sum(_gihi(tc, m, w))\n",
    "    \n",
    "    yi = np.sum(_yi())\n",
    "    yifi = np.sum(_yifi(tc, m))\n",
    "    yigi = np.sum(_yigi(tc, m, w))\n",
    "    yihi = np.sum(_yihi(tc, m, w))\n",
    "    \n",
    "    matrix_1 = np.matrix([\n",
    "        [N,  fi,       gi,       hi      ],\n",
    "        [fi, fi_pow_2, figi,     fihi    ],\n",
    "        [gi, figi,     gi_pow_2, gihi    ],\n",
    "        [hi, fihi,     gihi,     hi_pow_2]\n",
    "    ])\n",
    "    \n",
    "    matrix_2 = np.matrix([\n",
    "        [yi],\n",
    "        [yifi],\n",
    "        [yigi],\n",
    "        [yihi]\n",
    "    ])\n",
    "    \n",
    "    product = np.linalg.solve(matrix_1, matrix_2)\n",
    "    \n",
    "    return [i[0] for i in product.tolist()]"
   ]
  },
  {
   "cell_type": "code",
   "execution_count": 6,
   "metadata": {},
   "outputs": [],
   "source": [
    "def fit(self, observations, max_searches, minimizer='Nelder-Mead'):\n",
    "        \"\"\"\n",
    "        Args:\n",
    "            observations (Mx2 numpy array): the observed time-series data.\n",
    "            max_searches (int): The maxi amount of searches to perform before giving up. The literature suggests 25.\n",
    "            minimizer (str): See list of valid methods to pass to scipy.optimize.minimize:\n",
    "                https://docs.scipy.org/doc/scipy/reference/generated/scipy.optimize.minimize.html#scipy.optimize.minimize\n",
    "        Returns:\n",
    "            tc, m, w, a, b, c, c1, c2\n",
    "        \"\"\"\n",
    "        search_count = 0\n",
    "        # find bubble\n",
    "        while search_count < max_searches:\n",
    "            tc_init_min, tc_init_max = self._get_tc_bounds(observations, 0.20, 0.20)\n",
    "\n",
    "            # @TODO make configurable\n",
    "            # set random initialization limits for non-linear params\n",
    "            init_limits = [\n",
    "                (tc_init_min, tc_init_max),  # tc : Critical Time\n",
    "                (0, 2),  # m : 0.1 ≤ m ≤ 0.9\n",
    "                (1, 50),  # ω : 6 ≤ ω ≤ 13\n",
    "            ]\n",
    "\n",
    "            # randomly choose vals within bounds for non-linear params\n",
    "            non_lin_vals = [random.uniform(a[0], a[1]) for a in init_limits]\n",
    "\n",
    "            tc = non_lin_vals[0]\n",
    "            m = non_lin_vals[1]\n",
    "            w = non_lin_vals[2]\n",
    "            seed = np.array([tc, m, w])\n",
    "\n",
    "            # Increment search count on SVD convergence error, but raise all other exceptions.\n",
    "            try:\n",
    "                tc, m, w, a, b, c, c1, c2 = self.minimize(observations, seed, minimizer)\n",
    "                return tc, m, w, a, b, c, c1, c2\n",
    "            except (np.linalg.LinAlgError, UnboundLocalError, ValueError):\n",
    "                search_count += 1\n",
    "\n",
    "        return 0, 0, 0, 0, 0, 0, 0, 0"
   ]
  },
  {
   "cell_type": "code",
   "execution_count": 7,
   "metadata": {},
   "outputs": [
    {
     "name": "stdout",
     "output_type": "stream",
     "text": [
      "Running 0\n"
     ]
    },
    {
     "name": "stderr",
     "output_type": "stream",
     "text": [
      "<ipython-input-3-74006236ed56>:6: RuntimeWarning: invalid value encountered in power\n",
      "  return [np.power((tc - t), m) for t in DataSeries[0]]\n",
      "<ipython-input-3-74006236ed56>:9: RuntimeWarning: invalid value encountered in power\n",
      "  return [np.power((tc - t), m) * np.cos(w * np.log(tc - t)) for t in DataSeries[0]]\n",
      "<ipython-input-3-74006236ed56>:9: RuntimeWarning: invalid value encountered in log\n",
      "  return [np.power((tc - t), m) * np.cos(w * np.log(tc - t)) for t in DataSeries[0]]\n",
      "<ipython-input-3-74006236ed56>:12: RuntimeWarning: invalid value encountered in power\n",
      "  return [np.power((tc - t), m) * np.sin(w * np.log(tc - t)) for t in DataSeries[0]]\n",
      "<ipython-input-3-74006236ed56>:12: RuntimeWarning: invalid value encountered in log\n",
      "  return [np.power((tc - t), m) * np.sin(w * np.log(tc - t)) for t in DataSeries[0]]\n",
      "<ipython-input-5-f728f036ac27>:3: RuntimeWarning: invalid value encountered in power\n",
      "  return a + np.power(tc - t, m) * (b + ((c1 * np.cos(w * np.log(tc - t))) + (c2 * np.sin(w * np.log(tc - t)))))\n",
      "<ipython-input-5-f728f036ac27>:3: RuntimeWarning: invalid value encountered in log\n",
      "  return a + np.power(tc - t, m) * (b + ((c1 * np.cos(w * np.log(tc - t))) + (c2 * np.sin(w * np.log(tc - t)))))\n"
     ]
    },
    {
     "name": "stdout",
     "output_type": "stream",
     "text": [
      " final_simplex: (array([[ 7.61615663e+02, -2.23725120e-01,  1.48227088e+01],\n",
      "       [ 7.61615633e+02, -2.23719632e-01,  1.48226929e+01],\n",
      "       [ 7.61615728e+02, -2.23722764e-01,  1.48227289e+01],\n",
      "       [ 7.61615760e+02, -2.23725775e-01,  1.48227245e+01]]), array([1.06138697e+11, 1.06138697e+11, 1.06138697e+11, 1.06138697e+11]))\n",
      "           fun: 106138697276.21776\n",
      "       message: 'Optimization terminated successfully.'\n",
      "          nfev: 277\n",
      "           nit: 153\n",
      "        status: 0\n",
      "       success: True\n",
      "             x: array([ 7.61615663e+02, -2.23725120e-01,  1.48227088e+01])\n",
      "Success: True\n",
      "Message: Optimization terminated successfully.\n",
      "Number of iterations: 153\n",
      "Number of evaluations of obj funcs: 277\n",
      "-------------------------\n"
     ]
    }
   ],
   "source": [
    "found_solution = False\n",
    "solution_count = 0\n",
    "solutions = []\n",
    "\n",
    "while not found_solution:\n",
    "    print(\"Running {}\".format(solution_count))\n",
    "    \n",
    "    # set limits for non-linear params\n",
    "    limits = (\n",
    "        [tLen-(tLen*0.2), tLen+(tLen*0.2)],    # Critical Time + or - .2\n",
    "        [0.1, 0.9],                            # m : 0.1 ≤ m ≤ 0.9\n",
    "        [6, 13],                               # ω : 6 ≤ ω ≤ 13     \n",
    "    )\n",
    "    \n",
    "    # randomly choose vals for non-linear params \n",
    "    non_lin_vals = [random.uniform(a[0], a[1]) for a in limits]\n",
    "\n",
    "    tc = non_lin_vals[0]\n",
    "    m  = non_lin_vals[1] \n",
    "    w  = non_lin_vals[2]\n",
    "    \n",
    "    # params to pass to scipy.optimize\n",
    "    seed = [tc, m, w]\n",
    "    \n",
    "    try:\n",
    "        cofs = minimize(fun=func_restricted, x0=seed, method='Nelder-Mead')\n",
    "        \n",
    "        if cofs.success:\n",
    "            print(cofs)\n",
    "            solutions.append({\n",
    "                'fit': func_restricted(cofs.x),\n",
    "                'cof': cofs.x\n",
    "            })\n",
    "            found_solution = True\n",
    "        else:\n",
    "            solution_count = solution_count + 1\n",
    "\n",
    "        print(\"Success: {}\\nMessage: {}\".format(cofs.success, cofs.message))\n",
    "        print(\"Number of iterations: {}\".format(cofs.nit))\n",
    "        print(\"Number of evaluations of obj funcs: {}\".format(cofs.nfev))\n",
    "        print(\"-\"*25)\n",
    "    except Exception as e:\n",
    "        print(\"Exception: {}\".format(e))\n",
    "        print(non_lin_vals)\n",
    "        print(matrix_equation(non_lin_vals[0], non_lin_vals[1], non_lin_vals[2]))\n",
    "        solution_count = solution_count + 1"
   ]
  },
  {
   "cell_type": "code",
   "execution_count": 8,
   "metadata": {},
   "outputs": [
    {
     "data": {
      "image/png": "[encoded data removed]",
      "text/plain": [
       "<Figure size 1008x576 with 1 Axes>"
      ]
     },
     "metadata": {
      "needs_background": "light"
     },
     "output_type": "display_data"
    }
   ],
   "source": [
    "for i in solutions:\n",
    "    tc = i[\"cof\"][0]\n",
    "    m =  i[\"cof\"][1]\n",
    "    w =  i[\"cof\"][2]\n",
    "    \n",
    "    lin_vals = matrix_equation(tc, m, w)\n",
    "    \n",
    "    a  = lin_vals[0] \n",
    "    b  = lin_vals[1]\n",
    "    c1 = lin_vals[2] \n",
    "    c2 = lin_vals[3]\n",
    "\n",
    "    lppl_fit = [lppl(t, tc, m, w, a, b, c1, c2) for t in DataSeries[0]]\n",
    "    price_data = DataSeries[1]\n",
    "    \n",
    "    data = pd.DataFrame({\n",
    "        'Date': DataSeries[0],\n",
    "        'LPPL Fit': lppl_fit,\n",
    "        'BTC-USD': np.log(price_data),\n",
    "    })\n",
    "    data = data.set_index('Date')\n",
    "    data.plot(figsize=(14,8))"
   ]
  },
  {
   "cell_type": "code",
   "execution_count": 9,
   "metadata": {},
   "outputs": [
    {
     "name": "stdout",
     "output_type": "stream",
     "text": [
      "# tc = 761.6156627812128\n",
      "# m = -0.22372512011032097\n",
      "# w = 14.82270882937068\n",
      "# a = 7.332944636499687\n",
      "# b = 6.194861793373225\n",
      "# c1 = 0.6064964611181805\n",
      "# c2 = -0.18061754402224506\n",
      "# -------------\n"
     ]
    }
   ],
   "source": [
    "print(\"# tc = {}\\n# m = {}\\n# w = {}\\n# a = {}\\n# b = {}\\n# c1 = {}\\n# c2 = {}\\n# -------------\".format(tc,m,w,a,b,c1,c2))"
   ]
  },
  {
   "cell_type": "code",
   "execution_count": 44,
   "metadata": {},
   "outputs": [
    {
     "data": {
      "text/plain": [
       "1"
      ]
     },
     "execution_count": 44,
     "metadata": {},
     "output_type": "execute_result"
    }
   ],
   "source": [
    "solution_count"
   ]
  },
  {
   "cell_type": "code",
   "execution_count": null,
   "metadata": {},
   "outputs": [],
   "source": []
  }
 ],
 "metadata": {
  "kernelspec": {
   "display_name": "Python 3",
   "language": "python",
   "name": "python3"
  },
  "language_info": {
   "codemirror_mode": {
    "name": "ipython",
    "version": 3
   },
   "file_extension": ".py",
   "mimetype": "text/x-python",
   "name": "python",
   "nbconvert_exporter": "python",
   "pygments_lexer": "ipython3",
   "version": "3.8.3"
  }
 },
 "nbformat": 4,
 "nbformat_minor": 4
}
